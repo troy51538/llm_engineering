{
 "cells": [
  {
   "cell_type": "markdown",
   "id": "fe12c203-e6a6-452c-a655-afb8a03a4ff5",
   "metadata": {},
   "source": [
    "# End of week 1 exercise\n",
    "\n",
    "To demonstrate your familiarity with OpenAI API, and also Ollama, build a tool that takes a technical question,  \n",
    "and responds with an explanation. This is a tool that you will be able to use yourself during the course!"
   ]
  },
  {
   "cell_type": "code",
   "execution_count": 3,
   "id": "c1070317-3ed9-4659-abe3-828943230e03",
   "metadata": {},
   "outputs": [],
   "source": [
    "# imports\n",
    "\n",
    "import os\n",
    "import requests\n",
    "import json\n",
    "from typing import List\n",
    "from dotenv import load_dotenv\n",
    "from bs4 import BeautifulSoup\n",
    "from IPython.display import Markdown, display, update_display\n",
    "from openai import OpenAI"
   ]
  },
  {
   "cell_type": "code",
   "execution_count": 4,
   "id": "4a456906-915a-4bfd-bb9d-57e505c5093f",
   "metadata": {},
   "outputs": [],
   "source": [
    "# constants\n",
    "\n",
    "MODEL_GPT = 'gpt-4o-mini'\n",
    "MODEL_LLAMA = 'llama3.2'"
   ]
  },
  {
   "cell_type": "code",
   "execution_count": 5,
   "id": "a8d7923c-5f28-4c30-8556-342d7c8497c1",
   "metadata": {},
   "outputs": [
    {
     "name": "stdout",
     "output_type": "stream",
     "text": [
      "API key looks good so far\n"
     ]
    }
   ],
   "source": [
    "# set up environment\n",
    "load_dotenv(override=True)\n",
    "api_key = os.getenv('OPENAI_API_KEY')\n",
    "\n",
    "if api_key and api_key.startswith('sk-proj-') and len(api_key)>10:\n",
    "    print(\"API key looks good so far\")\n",
    "else:\n",
    "    print(\"There might be a problem with your API key? Please visit the troubleshooting notebook!\")\n",
    "    \n",
    "MODEL = 'gpt-4o-mini'\n",
    "openai = OpenAI()"
   ]
  },
  {
   "cell_type": "code",
   "execution_count": 6,
   "id": "3f0d0137-52b0-47a8-81a8-11a90a010798",
   "metadata": {},
   "outputs": [],
   "source": [
    "# here is the question; type over this to ask something new\n",
    "\n",
    "question = \"\"\"\n",
    "Please explain what this code does and why:\n",
    "yield from {book.get(\"author\") for book in books if book.get(\"author\")}\n",
    "\"\"\""
   ]
  },
  {
   "cell_type": "code",
   "execution_count": 11,
   "id": "60ce7000-a4a5-4cce-a261-e75ef45063b4",
   "metadata": {},
   "outputs": [
    {
     "data": {
      "text/markdown": [
       "The code you've provided is written in Python. Specifically, it uses the `yield from` syntax introduced in Python 3.3, alongside a set comprehension.\n",
       "\n",
       "### Explanation\n",
       "\n",
       "1. **Set Comprehension**:\n",
       "   python\n",
       "   {book.get(\"author\") for book in books if book.get(\"author\")}\n",
       "   \n",
       "   This part of the code creates a set of authors from a list or collection named `books`. Each item in `books` is expected to be a dictionary that may contain an \"author\" key. The comprehension iterates through each `book`, retrieves the value associated with the \"author\" key using `book.get(\"author\")`, and adds it to a set if the value is not `None` (or falsy). This ensures that only unique author names are added to the set, as sets do not allow duplicate entries.\n",
       "\n",
       "2. **Yield from**:\n",
       "   python\n",
       "   yield from { ... }\n",
       "   \n",
       "   The `yield from` expression is used in a generator function to yield all values from the iterable directly. In this case, it yields each author name from the set created in the previous step. This means that rather than returning the set at once (like with a normal return statement), this code will yield each author one by one when the generator function is called.\n",
       "\n",
       "### Usage Example\n",
       "\n",
       "Let's say you have a list of books structured as follows:\n",
       "\n",
       "python\n",
       "books = [\n",
       "    {\"title\": \"Book One\", \"author\": \"Author A\"},\n",
       "    {\"title\": \"Book Two\", \"author\": \"Author B\"},\n",
       "    {\"title\": \"Book Three\", \"author\": \"Author A\"},\n",
       "    {\"title\": \"Book Four\", \"author\": None},\n",
       "    {\"title\": \"Book Five\", \"author\": \"Author C\"},\n",
       "]\n",
       "\n",
       "\n",
       "You can create a generator function that utilizes the provided code:\n",
       "\n",
       "python\n",
       "def unique_authors(books):\n",
       "    yield from {book.get(\"author\") for book in books if book.get(\"author\")}\n",
       "\n",
       "# Example usage\n",
       "for author in unique_authors(books):\n",
       "    print(author)\n",
       "\n",
       "\n",
       "### Output:\n",
       "This code will produce the following output:\n",
       "\n",
       "\n",
       "Author C\n",
       "Author B\n",
       "Author A\n",
       "\n",
       "\n",
       "### Summary\n",
       "- The code creates a generator that yields unique authors of books.\n",
       "- It filters out any `None` values (i.e., books without an author).\n",
       "- It's useful for situations where you need to iterate through unique values without storing them all in memory at once."
      ],
      "text/plain": [
       "<IPython.core.display.Markdown object>"
      ]
     },
     "metadata": {},
     "output_type": "display_data"
    }
   ],
   "source": [
    "# Get gpt-4o-mini to answer, with streaming\n",
    "\n",
    "system_prompt=\"\"\"You are provided with lines of code, and are capable of determining which programming language the code is even if the prompt provided \\\n",
    "does not specify which language it is from. You are an assistant to software engineers that have basic knowledge in programming, and you \\\n",
    "should determine which programming language it is using and what the code is doing. You should respond with examples showing the usage of the code \\\n",
    "that has been provided. \n",
    "When giving examples of the code or explaning a line of code, display it so that when displayed in Markdown, it will be displayed in a code block.\n",
    "\"\"\"\n",
    "\n",
    "def answer_question(question):\n",
    "    stream = openai.chat.completions.create(\n",
    "        model=MODEL,\n",
    "        messages=[\n",
    "            {\"role\": \"system\", \"content\": system_prompt},\n",
    "            {\"role\": \"user\", \"content\": question}\n",
    "        ],\n",
    "        stream=True\n",
    "    )\n",
    "\n",
    "    response = \"\"\n",
    "    display_handle = display(Markdown(\"\"), display_id=True)\n",
    "    for chunk in stream:\n",
    "        response += chunk.choices[0].delta.content or ''\n",
    "        response = response.replace(\"```\",\"\").replace(\"markdown\", \"\")\n",
    "        update_display(Markdown(response), display_id=display_handle.display_id)\n",
    "\n",
    "\n",
    "answer_question(question)"
   ]
  },
  {
   "cell_type": "code",
   "execution_count": 15,
   "id": "8f7c8ea8-4082-4ad0-8751-3301adcf6538",
   "metadata": {},
   "outputs": [
    {
     "name": "stdout",
     "output_type": "stream",
     "text": [
      "**Code Explanation**\n",
      "\n",
      "The given code is written in Python. It appears to be using a combination of generator expressions and the `yield from` statement.\n",
      "\n",
      "Here's a breakdown of what the code does:\n",
      "\n",
      "* `yield from {book.get(\"author\") for book in books if book.get(\"author\")}` can be simplified as:\n",
      "```python\n",
      "for book in books:\n",
      "    if book.get(\"author\"):\n",
      "        yield book.get(\"author\")\n",
      "```\n",
      "However, the original version using dictionary comprehension and `yield from` is more concise.\n",
      "\n",
      "This code extracts author names from a list of books (`books`) that contain an \"author\" key. The resulting generator yields only the author names.\n",
      "\n",
      "**Why it's used**\n",
      "\n",
      "The use of `yield from` here is to delegate to another iterable (in this case, another generator expression) and have the current generator remember its state. This allows us to write a more readable and concise code than we would if we were writing multiple nested loops or conditionals.\n",
      "\n",
      "In this specific example, using `yield from` makes it easier to express the idea of \"for each book in the list, if it has an author, yield that author's name\" in a single line of code.\n",
      "\n",
      "**Example usage**\n",
      "\n",
      "Here's how you might use this generator:\n",
      "```python\n",
      "books = [\n",
      "    {\"title\": \"Book 1\", \"author\": \"Author A\"},\n",
      "    {\"title\": \"Book 2\", \"author\": None},\n",
      "    {\"title\": \"Book 3\", \"author\": \"Author C\"}\n",
      "]\n",
      "\n",
      "for author in yield_from({book.get(\"author\") for book in books if book.get(\"author\")}):\n",
      "    print(f\"Found author: {author}\")\n",
      "```\n",
      "This would output:\n",
      "```\n",
      "Found author: Author A\n",
      "Found author: Author C\n",
      "```\n"
     ]
    }
   ],
   "source": [
    "# Get Llama 3.2 to answer\n",
    "OLLAMA_API = \"http://localhost:11434/api/chat\"\n",
    "HEADERS = {\"Content-Type\": \"application/json\"}\n",
    "MODEL = \"llama3.2\"\n",
    "\n",
    "messages=[\n",
    "            {\"role\": \"system\", \"content\": system_prompt},\n",
    "            {\"role\": \"user\", \"content\": question}\n",
    "        ]\n",
    "\n",
    "payload = {\n",
    "        \"model\": MODEL,\n",
    "        \"messages\": messages,\n",
    "        \"stream\": False\n",
    "    }\n",
    "\n",
    "response = requests.post(OLLAMA_API, json=payload, headers=HEADERS)\n",
    "print(response.json()['message']['content'])"
   ]
  },
  {
   "cell_type": "code",
   "execution_count": null,
   "id": "d317a65a-3a5e-411e-b490-0dc3f675b567",
   "metadata": {},
   "outputs": [],
   "source": []
  }
 ],
 "metadata": {
  "kernelspec": {
   "display_name": "Python 3 (ipykernel)",
   "language": "python",
   "name": "python3"
  },
  "language_info": {
   "codemirror_mode": {
    "name": "ipython",
    "version": 3
   },
   "file_extension": ".py",
   "mimetype": "text/x-python",
   "name": "python",
   "nbconvert_exporter": "python",
   "pygments_lexer": "ipython3",
   "version": "3.11.12"
  }
 },
 "nbformat": 4,
 "nbformat_minor": 5
}
